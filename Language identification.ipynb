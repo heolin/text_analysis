{
 "cells": [
  {
   "cell_type": "code",
   "execution_count": 66,
   "metadata": {
    "collapsed": false
   },
   "outputs": [],
   "source": [
    "\"\"\"Build a language detector model\n",
    "\n",
    "The goal of this exercise is to train a linear classifier on text features\n",
    "that represent sequences of up to 3 consecutive characters so as to be\n",
    "recognize natural languages by using the frequencies of short character\n",
    "sequences as 'fingerprints'.\n",
    "\n",
    "\"\"\"\n",
    "\n",
    "import sys\n",
    "\n",
    "from sklearn.feature_extraction.text import TfidfVectorizer\n",
    "from sklearn.feature_extraction.text import TfidfTransformer\n",
    "from sklearn.feature_extraction.text import CountVectorizer\n",
    "\n",
    "from sklearn.pipeline import Pipeline\n",
    "from sklearn.datasets import load_files\n",
    "from sklearn.model_selection import train_test_split\n",
    "from sklearn import metrics\n",
    "\n",
    "from sklearn.neural_network import MLPClassifier\n",
    "from sklearn.svm import SVC, LinearSVC\n",
    "from sklearn.linear_model import Perceptron\n",
    "from sklearn.tree import DecisionTreeClassifier\n",
    "from sklearn.ensemble import RandomForestClassifier\n"
   ]
  },
  {
   "cell_type": "code",
   "execution_count": 35,
   "metadata": {
    "collapsed": true
   },
   "outputs": [],
   "source": [
    "def test_classifier(clf):\n",
    "    y_predicted = clf.predict(docs_test)\n",
    "    print(metrics.classification_report(y_test, y_predicted,\n",
    "                                        target_names=dataset.target_names))\n"
   ]
  },
  {
   "cell_type": "code",
   "execution_count": 2,
   "metadata": {
    "collapsed": true
   },
   "outputs": [],
   "source": [
    "languages_data_folder = \"./data/languages/paragraphs/\"\n",
    "dataset = load_files(languages_data_folder)"
   ]
  },
  {
   "cell_type": "code",
   "execution_count": 3,
   "metadata": {
    "collapsed": true
   },
   "outputs": [],
   "source": [
    "# Split the dataset in training and test set:\n",
    "docs_train, docs_test, y_train, y_test = train_test_split(\n",
    "    dataset.data, dataset.target, test_size=0.5)"
   ]
  },
  {
   "cell_type": "code",
   "execution_count": 87,
   "metadata": {
    "collapsed": false
   },
   "outputs": [],
   "source": [
    "# vectorizer building ngrams on characters\n",
    "vectorizer =  TfidfVectorizer(ngram_range=(1, 3), analyzer='char', use_idf=False)"
   ]
  },
  {
   "cell_type": "code",
   "execution_count": null,
   "metadata": {
    "collapsed": false,
    "scrolled": true
   },
   "outputs": [],
   "source": [
    "# test ngram vectorizer\n",
    "analyze = vectorizer.build_analyzer()\n",
    "analyze('This is a language detection test.')"
   ]
  },
  {
   "cell_type": "markdown",
   "metadata": {},
   "source": [
    "## Perceptron with tf-idf transformer"
   ]
  },
  {
   "cell_type": "code",
   "execution_count": 88,
   "metadata": {
    "collapsed": false
   },
   "outputs": [
    {
     "name": "stdout",
     "output_type": "stream",
     "text": [
      "             precision    recall  f1-score   support\n",
      "\n",
      "         ar       1.00      1.00      1.00        12\n",
      "         de       1.00      0.95      0.97        79\n",
      "         en       1.00      1.00      1.00        62\n",
      "         es       1.00      0.96      0.98        55\n",
      "         fr       0.99      1.00      0.99        66\n",
      "         it       0.98      1.00      0.99        47\n",
      "         ja       0.88      1.00      0.94        30\n",
      "         nl       1.00      1.00      1.00        16\n",
      "         pl       1.00      1.00      1.00        20\n",
      "         pt       1.00      1.00      1.00        56\n",
      "         ru       1.00      1.00      1.00        40\n",
      "\n",
      "avg / total       0.99      0.99      0.99       483\n",
      "\n"
     ]
    }
   ],
   "source": [
    "text_clf = Pipeline([('vect', vectorizer),\n",
    "                     ('clf', Perceptron())])\n",
    "text_clf.fit(docs_train, y_train)\n",
    "test_classifier(text_clf)"
   ]
  },
  {
   "cell_type": "markdown",
   "metadata": {},
   "source": [
    "## SVM"
   ]
  },
  {
   "cell_type": "code",
   "execution_count": 89,
   "metadata": {
    "collapsed": false
   },
   "outputs": [
    {
     "name": "stdout",
     "output_type": "stream",
     "text": [
      "             precision    recall  f1-score   support\n",
      "\n",
      "         ar       1.00      1.00      1.00        12\n",
      "         de       1.00      1.00      1.00        79\n",
      "         en       1.00      1.00      1.00        62\n",
      "         es       0.98      1.00      0.99        55\n",
      "         fr       1.00      1.00      1.00        66\n",
      "         it       1.00      1.00      1.00        47\n",
      "         ja       1.00      1.00      1.00        30\n",
      "         nl       1.00      1.00      1.00        16\n",
      "         pl       1.00      1.00      1.00        20\n",
      "         pt       1.00      0.98      0.99        56\n",
      "         ru       1.00      1.00      1.00        40\n",
      "\n",
      "avg / total       1.00      1.00      1.00       483\n",
      "\n"
     ]
    }
   ],
   "source": [
    "text_clf = Pipeline([('vect', vectorizer),\n",
    "                     ('clf', LinearSVC())])\n",
    "text_clf.fit(docs_train, y_train)\n",
    "test_classifier(text_clf)"
   ]
  },
  {
   "cell_type": "markdown",
   "metadata": {},
   "source": [
    "## Decision tree classifier"
   ]
  },
  {
   "cell_type": "code",
   "execution_count": 91,
   "metadata": {
    "collapsed": false
   },
   "outputs": [
    {
     "name": "stdout",
     "output_type": "stream",
     "text": [
      "             precision    recall  f1-score   support\n",
      "\n",
      "         ar       0.86      1.00      0.92        12\n",
      "         de       0.88      0.94      0.91        79\n",
      "         en       0.91      0.95      0.93        62\n",
      "         es       1.00      0.82      0.90        55\n",
      "         fr       0.97      0.94      0.95        66\n",
      "         it       0.98      0.89      0.93        47\n",
      "         ja       1.00      0.93      0.97        30\n",
      "         nl       0.81      0.81      0.81        16\n",
      "         pl       1.00      1.00      1.00        20\n",
      "         pt       0.82      0.96      0.89        56\n",
      "         ru       1.00      0.95      0.97        40\n",
      "\n",
      "avg / total       0.93      0.93      0.93       483\n",
      "\n"
     ]
    }
   ],
   "source": [
    "text_clf = Pipeline([('vect', vectorizer),\n",
    "                     ('clf', DecisionTreeClassifier())])\n",
    "text_clf.fit(docs_train, y_train)\n",
    "test_classifier(text_clf)"
   ]
  },
  {
   "cell_type": "markdown",
   "metadata": {},
   "source": [
    "## Random tree forset classifier"
   ]
  },
  {
   "cell_type": "code",
   "execution_count": 92,
   "metadata": {
    "collapsed": false
   },
   "outputs": [
    {
     "name": "stdout",
     "output_type": "stream",
     "text": [
      "             precision    recall  f1-score   support\n",
      "\n",
      "         ar       1.00      1.00      1.00        12\n",
      "         de       0.95      1.00      0.98        79\n",
      "         en       0.97      1.00      0.98        62\n",
      "         es       0.95      0.98      0.96        55\n",
      "         fr       1.00      1.00      1.00        66\n",
      "         it       1.00      0.98      0.99        47\n",
      "         ja       1.00      1.00      1.00        30\n",
      "         nl       1.00      0.94      0.97        16\n",
      "         pl       1.00      0.85      0.92        20\n",
      "         pt       1.00      0.95      0.97        56\n",
      "         ru       1.00      1.00      1.00        40\n",
      "\n",
      "avg / total       0.98      0.98      0.98       483\n",
      "\n"
     ]
    }
   ],
   "source": [
    "text_clf = Pipeline([('vect', vectorizer),\n",
    "                     ('clf', RandomForestClassifier(n_estimators=20))])\n",
    "text_clf.fit(docs_train, y_train)\n",
    "test_classifier(text_clf)"
   ]
  },
  {
   "cell_type": "markdown",
   "metadata": {},
   "source": [
    "## Multilayer Perceptron classifier"
   ]
  },
  {
   "cell_type": "code",
   "execution_count": 86,
   "metadata": {
    "collapsed": false
   },
   "outputs": [
    {
     "name": "stdout",
     "output_type": "stream",
     "text": [
      "             precision    recall  f1-score   support\n",
      "\n",
      "         ar       1.00      1.00      1.00        12\n",
      "         de       1.00      1.00      1.00        79\n",
      "         en       0.98      1.00      0.99        62\n",
      "         es       1.00      1.00      1.00        55\n",
      "         fr       1.00      1.00      1.00        66\n",
      "         it       1.00      0.98      0.99        47\n",
      "         ja       1.00      1.00      1.00        30\n",
      "         nl       1.00      1.00      1.00        16\n",
      "         pl       1.00      1.00      1.00        20\n",
      "         pt       1.00      1.00      1.00        56\n",
      "         ru       1.00      1.00      1.00        40\n",
      "\n",
      "avg / total       1.00      1.00      1.00       483\n",
      "\n"
     ]
    }
   ],
   "source": [
    "text_clf = Pipeline([('vect', vectorizer),\n",
    "                     ('clf', MLPClassifier(hidden_layer_sizes=(100,)))])\n",
    "text_clf.fit(docs_train, y_train)\n",
    "test_classifier(text_clf)"
   ]
  },
  {
   "cell_type": "code",
   "execution_count": 39,
   "metadata": {
    "collapsed": false
   },
   "outputs": [
    {
     "name": "stdout",
     "output_type": "stream",
     "text": [
      "[[ 0  0  0  0  0  0  6  0  1  0  5]\n",
      " [ 0 79  0  0  0  0  0  0  0  0  0]\n",
      " [ 0  0 62  0  0  0  0  0  0  0  0]\n",
      " [ 0  0  0 51  0  3  0  0  0  1  0]\n",
      " [ 0  0  0  1 65  0  0  0  0  0  0]\n",
      " [ 1  0  0  0  0 46  0  0  0  0  0]\n",
      " [ 2  1  1  2  0  1 13  0  0  3  7]\n",
      " [ 0  0  0  0  0  0  0 16  0  0  0]\n",
      " [ 0  0  0  0  0  0  0  0 19  1  0]\n",
      " [ 0  0  0  1  0  0  0  0  0 54  1]\n",
      " [ 1  1  6  1  1  3 10  0  0  3 14]]\n"
     ]
    },
    {
     "data": {
      "image/png": "[encoded data removed]",
      "text/plain": [
       "<matplotlib.figure.Figure at 0x7facd8977810>"
      ]
     },
     "metadata": {},
     "output_type": "display_data"
    }
   ],
   "source": [
    "# Plot the confusion matrix\n",
    "cm = metrics.confusion_matrix(y_test, y_predicted)\n",
    "print(cm)\n",
    "\n",
    "import matplotlib.pyplot as plt\n",
    "plt.matshow(cm, cmap=plt.cm.jet)\n",
    "plt.show()"
   ]
  },
  {
   "cell_type": "code",
   "execution_count": null,
   "metadata": {
    "collapsed": true
   },
   "outputs": [],
   "source": []
  }
 ],
 "metadata": {
  "kernelspec": {
   "display_name": "Python 2",
   "language": "python",
   "name": "python2"
  },
  "language_info": {
   "codemirror_mode": {
    "name": "ipython",
    "version": 2
   },
   "file_extension": ".py",
   "mimetype": "text/x-python",
   "name": "python",
   "nbconvert_exporter": "python",
   "pygments_lexer": "ipython2",
   "version": "2.7.12"
  }
 },
 "nbformat": 4,
 "nbformat_minor": 2
}
