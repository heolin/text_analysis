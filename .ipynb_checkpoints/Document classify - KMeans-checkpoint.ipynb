{
 "cells": [
  {
   "cell_type": "markdown",
   "metadata": {},
   "source": [
    "Based on http://scikit-learn.org/stable/auto_examples/text/document_clustering.html"
   ]
  },
  {
   "cell_type": "code",
   "execution_count": 1,
   "metadata": {
    "collapsed": true
   },
   "outputs": [],
   "source": [
    "from sklearn.datasets import fetch_20newsgroups\n",
    "from sklearn import metrics\n",
    "\n",
    "from sklearn.feature_extraction.text import CountVectorizer\n",
    "from sklearn.feature_extraction.text import TfidfVectorizer\n",
    "from sklearn.feature_extraction.text import TfidfTransformer\n",
    "\n",
    "from sklearn.naive_bayes import MultinomialNB\n",
    "from sklearn.svm import SVC, LinearSVC\n",
    "\n",
    "\n",
    "from sklearn.pipeline import Pipeline\n",
    "from sklearn import metrics\n",
    "\n",
    "import numpy as np"
   ]
  },
  {
   "cell_type": "code",
   "execution_count": 25,
   "metadata": {
    "collapsed": true
   },
   "outputs": [],
   "source": [
    "input_categories = ['talk.politics.misc', 'soc.religion.christian', 'comp.graphics', 'sci.med']\n",
    "train_dataset = fetch_20newsgroups(subset='train', categories=input_categories, shuffle=True, random_state=42)\n",
    "test_dataset = fetch_20newsgroups(subset='test', categories=input_categories, shuffle=True, random_state=42)"
   ]
  },
  {
   "cell_type": "code",
   "execution_count": 49,
   "metadata": {
    "collapsed": false
   },
   "outputs": [
    {
     "name": "stdout",
     "output_type": "stream",
     "text": [
      "Naive Bayes classifier\n",
      "                        precision    recall  f1-score   support\n",
      "\n",
      "         comp.graphics       0.96      0.90      0.93       389\n",
      "               sci.med       0.96      0.82      0.88       396\n",
      "soc.religion.christian       0.66      0.99      0.79       398\n",
      "    talk.politics.misc       0.99      0.61      0.76       310\n",
      "\n",
      "           avg / total       0.89      0.84      0.85      1493\n",
      "\n"
     ]
    }
   ],
   "source": [
    "nb_text_clf = Pipeline([('vect', CountVectorizer()),\n",
    "                     ('tfid', TfidfTransformer()),\n",
    "                     ('clf', MultinomialNB())])\n",
    "\n",
    "nb_text_clf.fit(train_dataset.data, train_dataset.target)\n",
    "predicted = nb_text_clf.predict(test_dataset.data)\n",
    "print \"Naive Bayes classifier\"\n",
    "print metrics.classification_report(test_dataset.target, predicted, target_names=test_dataset.target_names)"
   ]
  },
  {
   "cell_type": "code",
   "execution_count": 48,
   "metadata": {
    "collapsed": false
   },
   "outputs": [
    {
     "name": "stdout",
     "output_type": "stream",
     "text": [
      "Linear Support Vector classifier\n",
      "                        precision    recall  f1-score   support\n",
      "\n",
      "         comp.graphics       0.91      0.97      0.94       389\n",
      "               sci.med       0.95      0.90      0.92       396\n",
      "soc.religion.christian       0.96      0.97      0.96       398\n",
      "    talk.politics.misc       0.96      0.92      0.94       310\n",
      "\n",
      "           avg / total       0.94      0.94      0.94      1493\n",
      "\n"
     ]
    }
   ],
   "source": [
    "svc_text_clf = Pipeline([('vect', CountVectorizer()),\n",
    "                     ('tfid', TfidfTransformer()),\n",
    "                     ('clf', LinearSVC())])\n",
    "\n",
    "svc_text_clf.fit(train_dataset.data, train_dataset.target)\n",
    "predicted = svc_text_clf.predict(test_dataset.data)\n",
    "print \"Linear Support Vector classifier\"\n",
    "print metrics.classification_report(test_dataset.target, predicted, target_names=test_dataset.target_names)"
   ]
  },
  {
   "cell_type": "code",
   "execution_count": null,
   "metadata": {
    "collapsed": true
   },
   "outputs": [],
   "source": []
  }
 ],
 "metadata": {
  "kernelspec": {
   "display_name": "Python 2",
   "language": "python",
   "name": "python2"
  },
  "language_info": {
   "codemirror_mode": {
    "name": "ipython",
    "version": 2
   },
   "file_extension": ".py",
   "mimetype": "text/x-python",
   "name": "python",
   "nbconvert_exporter": "python",
   "pygments_lexer": "ipython2",
   "version": "2.7.12"
  }
 },
 "nbformat": 4,
 "nbformat_minor": 2
}
