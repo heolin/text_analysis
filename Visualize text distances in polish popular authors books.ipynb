{
 "cells": [
  {
   "cell_type": "markdown",
   "metadata": {
    "deletable": true,
    "editable": true
   },
   "source": [
    "based on https://de.dariah.eu/tatom/working_with_text.html"
   ]
  },
  {
   "cell_type": "code",
   "execution_count": 386,
   "metadata": {
    "collapsed": true,
    "deletable": true,
    "editable": true
   },
   "outputs": [],
   "source": [
    "import os, random, re\n",
    "import numpy as np\n",
    "import matplotlib.pyplot as plt\n",
    "import pandas as pd\n",
    "from sklearn.feature_extraction.text import CountVectorizer"
   ]
  },
  {
   "cell_type": "code",
   "execution_count": 387,
   "metadata": {
    "collapsed": true,
    "deletable": true,
    "editable": true
   },
   "outputs": [],
   "source": [
    "def tokenize(text):\n",
    "    text = text.lower()\n",
    "    tokens = re.findall(\"[A-Za-z0-9\\x66-\\xFF]+\", text)\n",
    "    return tokens"
   ]
  },
  {
   "cell_type": "markdown",
   "metadata": {},
   "source": [
    "## Read input data"
   ]
  },
  {
   "cell_type": "code",
   "execution_count": 388,
   "metadata": {
    "collapsed": false,
    "deletable": true,
    "editable": true
   },
   "outputs": [],
   "source": [
    "directory_path = \"./data/lektury/\""
   ]
  },
  {
   "cell_type": "markdown",
   "metadata": {},
   "source": [
    "### Selecting 20000 random tokens from each author"
   ]
  },
  {
   "cell_type": "code",
   "execution_count": 389,
   "metadata": {
    "collapsed": false,
    "deletable": true,
    "editable": true
   },
   "outputs": [],
   "source": [
    "TOKENS_SAMPLE_COUNT = 20000\n",
    "\n",
    "raw_data = {}\n",
    "for file_path in os.listdir('./data/lektury/'):\n",
    "    raw_text = open(os.path.join(directory_path, file_path)).read()\n",
    "    tokens = tokenize(raw_text)\n",
    "    sample_tokens = random.sample(tokens, TOKENS_SAMPLE_COUNT)\n",
    "    raw_data[file_path] = \" \".join(sample_tokens)"
   ]
  },
  {
   "cell_type": "code",
   "execution_count": 390,
   "metadata": {
    "collapsed": false,
    "deletable": true,
    "editable": true
   },
   "outputs": [],
   "source": [
    "vectorizer = CountVectorizer()\n",
    "dtm = vectorizer.fit_transform(raw_data.values()).toarray() \n",
    "vocab = np.array(vectorizer.get_feature_names())"
   ]
  },
  {
   "cell_type": "markdown",
   "metadata": {},
   "source": [
    "### Text authors"
   ]
  },
  {
   "cell_type": "code",
   "execution_count": 497,
   "metadata": {
    "collapsed": false
   },
   "outputs": [
    {
     "name": "stdout",
     "output_type": "stream",
     "text": [
      "adam_mickiewicz\n",
      "henryk_sienkiewicz\n",
      "kazimierz_przerwa_tetmajer\n",
      "jozef_ignacy_kraszewski\n",
      "juliusz_slowacki\n",
      "stanislaw_wyspianski\n",
      "eliza_orzeszkowa\n",
      "maria_konopnicka\n",
      "krzysztof_kamil_baczynski\n"
     ]
    }
   ],
   "source": [
    "for author in raw_data.keys():\n",
    "    author = author.split('.')[0]\n",
    "    print author"
   ]
  },
  {
   "cell_type": "markdown",
   "metadata": {},
   "source": [
    "## Frequency of token \"chleb\" per author"
   ]
  },
  {
   "cell_type": "code",
   "execution_count": 391,
   "metadata": {
    "collapsed": false,
    "deletable": true,
    "editable": true
   },
   "outputs": [
    {
     "data": {
      "image/png": "[encoded data removed]",
      "text/plain": [
       "<matplotlib.figure.Figure at 0x7f81ae9c0090>"
      ]
     },
     "metadata": {},
     "output_type": "display_data"
    }
   ],
   "source": [
    "token = u\"chleb\"\n",
    "authors, y = [], []\n",
    "for idx, file_name in enumerate(raw_data.keys()):\n",
    "    author = file_name.split('.')[0]\n",
    "    authors.append(author)\n",
    "    y.append(dtm[idx, vocab == token])\n",
    "X = xrange(len(authors))\n",
    "\n",
    "plt.bar(X, y)\n",
    "plt.title(\"Frequency of token: \\'{}\\' by author\".format(token))\n",
    "plt.xticks(X, authors, rotation=45)\n",
    "plt.show()"
   ]
  },
  {
   "cell_type": "markdown",
   "metadata": {},
   "source": [
    "## Frequency of sample sentence's tokens per author"
   ]
  },
  {
   "cell_type": "code",
   "execution_count": 392,
   "metadata": {
    "collapsed": false
   },
   "outputs": [
    {
     "data": {
      "text/html": [
       "<div>\n",
       "<table border=\"1\" class=\"dataframe\">\n",
       "  <thead>\n",
       "    <tr style=\"text-align: right;\">\n",
       "      <th></th>\n",
       "      <th>author</th>\n",
       "      <th>ala</th>\n",
       "      <th>ma</th>\n",
       "      <th>kota</th>\n",
       "      <th>a</th>\n",
       "      <th>kot</th>\n",
       "      <th>ma</th>\n",
       "      <th>ale</th>\n",
       "    </tr>\n",
       "  </thead>\n",
       "  <tbody>\n",
       "    <tr>\n",
       "      <th>0</th>\n",
       "      <td>adam_mickiewicz</td>\n",
       "      <td>0</td>\n",
       "      <td>27</td>\n",
       "      <td>0</td>\n",
       "      <td>0</td>\n",
       "      <td>0</td>\n",
       "      <td>27</td>\n",
       "      <td>59</td>\n",
       "    </tr>\n",
       "    <tr>\n",
       "      <th>1</th>\n",
       "      <td>henryk_sienkiewicz</td>\n",
       "      <td>0</td>\n",
       "      <td>24</td>\n",
       "      <td>0</td>\n",
       "      <td>0</td>\n",
       "      <td>0</td>\n",
       "      <td>24</td>\n",
       "      <td>155</td>\n",
       "    </tr>\n",
       "    <tr>\n",
       "      <th>2</th>\n",
       "      <td>kazimierz_przerwa_tetmajer</td>\n",
       "      <td>0</td>\n",
       "      <td>30</td>\n",
       "      <td>0</td>\n",
       "      <td>0</td>\n",
       "      <td>0</td>\n",
       "      <td>30</td>\n",
       "      <td>29</td>\n",
       "    </tr>\n",
       "    <tr>\n",
       "      <th>3</th>\n",
       "      <td>jozef_ignacy_kraszewski</td>\n",
       "      <td>0</td>\n",
       "      <td>26</td>\n",
       "      <td>0</td>\n",
       "      <td>0</td>\n",
       "      <td>0</td>\n",
       "      <td>26</td>\n",
       "      <td>90</td>\n",
       "    </tr>\n",
       "    <tr>\n",
       "      <th>4</th>\n",
       "      <td>juliusz_slowacki</td>\n",
       "      <td>0</td>\n",
       "      <td>21</td>\n",
       "      <td>0</td>\n",
       "      <td>0</td>\n",
       "      <td>0</td>\n",
       "      <td>21</td>\n",
       "      <td>52</td>\n",
       "    </tr>\n",
       "    <tr>\n",
       "      <th>5</th>\n",
       "      <td>stanislaw_wyspianski</td>\n",
       "      <td>0</td>\n",
       "      <td>53</td>\n",
       "      <td>0</td>\n",
       "      <td>0</td>\n",
       "      <td>0</td>\n",
       "      <td>53</td>\n",
       "      <td>40</td>\n",
       "    </tr>\n",
       "    <tr>\n",
       "      <th>6</th>\n",
       "      <td>eliza_orzeszkowa</td>\n",
       "      <td>0</td>\n",
       "      <td>18</td>\n",
       "      <td>0</td>\n",
       "      <td>0</td>\n",
       "      <td>0</td>\n",
       "      <td>18</td>\n",
       "      <td>105</td>\n",
       "    </tr>\n",
       "    <tr>\n",
       "      <th>7</th>\n",
       "      <td>maria_konopnicka</td>\n",
       "      <td>0</td>\n",
       "      <td>37</td>\n",
       "      <td>0</td>\n",
       "      <td>0</td>\n",
       "      <td>1</td>\n",
       "      <td>37</td>\n",
       "      <td>83</td>\n",
       "    </tr>\n",
       "    <tr>\n",
       "      <th>8</th>\n",
       "      <td>krzysztof_kamil_baczynski</td>\n",
       "      <td>0</td>\n",
       "      <td>17</td>\n",
       "      <td>1</td>\n",
       "      <td>0</td>\n",
       "      <td>1</td>\n",
       "      <td>17</td>\n",
       "      <td>24</td>\n",
       "    </tr>\n",
       "  </tbody>\n",
       "</table>\n",
       "</div>"
      ],
      "text/plain": [
       "                       author  ala  ma  kota  a  kot  ma  ale\n",
       "0             adam_mickiewicz    0  27     0  0    0  27   59\n",
       "1          henryk_sienkiewicz    0  24     0  0    0  24  155\n",
       "2  kazimierz_przerwa_tetmajer    0  30     0  0    0  30   29\n",
       "3     jozef_ignacy_kraszewski    0  26     0  0    0  26   90\n",
       "4            juliusz_slowacki    0  21     0  0    0  21   52\n",
       "5        stanislaw_wyspianski    0  53     0  0    0  53   40\n",
       "6            eliza_orzeszkowa    0  18     0  0    0  18  105\n",
       "7            maria_konopnicka    0  37     0  0    1  37   83\n",
       "8   krzysztof_kamil_baczynski    0  17     1  0    1  17   24"
      ]
     },
     "execution_count": 392,
     "metadata": {},
     "output_type": "execute_result"
    }
   ],
   "source": [
    "tokens = u\"Ala ma kota a kot ma ale\".lower().split()\n",
    "data = []\n",
    "for idx, file_name in enumerate(raw_data.keys()):\n",
    "    author = file_name.split('.')[0]\n",
    "    frequency = []\n",
    "    for token in tokens:\n",
    "        value = dtm[idx, vocab == token]\n",
    "        if value:\n",
    "            frequency.append(value[0])\n",
    "        else:\n",
    "            frequency.append(0)\n",
    "    data.append([author]+frequency)\n",
    "\n",
    "pd.DataFrame(data, columns=[\"author\"]+tokens)"
   ]
  },
  {
   "cell_type": "markdown",
   "metadata": {},
   "source": [
    "## Compute Euclidean distance (by hand)"
   ]
  },
  {
   "cell_type": "code",
   "execution_count": 393,
   "metadata": {
    "collapsed": false,
    "deletable": true,
    "editable": true
   },
   "outputs": [
    {
     "data": {
      "text/html": [
       "<div>\n",
       "<table border=\"1\" class=\"dataframe\">\n",
       "  <thead>\n",
       "    <tr style=\"text-align: right;\">\n",
       "      <th></th>\n",
       "      <th>adam_mickiewicz</th>\n",
       "      <th>henryk_sienkiewicz</th>\n",
       "      <th>kazimierz_przerwa_tetmajer</th>\n",
       "      <th>jozef_ignacy_kraszewski</th>\n",
       "      <th>juliusz_slowacki</th>\n",
       "      <th>stanislaw_wyspianski</th>\n",
       "      <th>eliza_orzeszkowa</th>\n",
       "      <th>maria_konopnicka</th>\n",
       "      <th>krzysztof_kamil_baczynski</th>\n",
       "    </tr>\n",
       "  </thead>\n",
       "  <tbody>\n",
       "    <tr>\n",
       "      <th>adam_mickiewicz</th>\n",
       "      <td>0.00</td>\n",
       "      <td>386.08</td>\n",
       "      <td>410.30</td>\n",
       "      <td>478.92</td>\n",
       "      <td>311.29</td>\n",
       "      <td>449.23</td>\n",
       "      <td>294.43</td>\n",
       "      <td>371.26</td>\n",
       "      <td>514.96</td>\n",
       "    </tr>\n",
       "    <tr>\n",
       "      <th>henryk_sienkiewicz</th>\n",
       "      <td>386.08</td>\n",
       "      <td>0.00</td>\n",
       "      <td>493.47</td>\n",
       "      <td>329.01</td>\n",
       "      <td>410.94</td>\n",
       "      <td>464.85</td>\n",
       "      <td>324.96</td>\n",
       "      <td>327.36</td>\n",
       "      <td>624.17</td>\n",
       "    </tr>\n",
       "    <tr>\n",
       "      <th>kazimierz_przerwa_tetmajer</th>\n",
       "      <td>410.30</td>\n",
       "      <td>493.47</td>\n",
       "      <td>0.00</td>\n",
       "      <td>535.92</td>\n",
       "      <td>378.01</td>\n",
       "      <td>445.90</td>\n",
       "      <td>405.58</td>\n",
       "      <td>449.51</td>\n",
       "      <td>487.56</td>\n",
       "    </tr>\n",
       "    <tr>\n",
       "      <th>jozef_ignacy_kraszewski</th>\n",
       "      <td>478.92</td>\n",
       "      <td>329.01</td>\n",
       "      <td>535.92</td>\n",
       "      <td>0.00</td>\n",
       "      <td>516.05</td>\n",
       "      <td>516.41</td>\n",
       "      <td>399.36</td>\n",
       "      <td>367.49</td>\n",
       "      <td>694.55</td>\n",
       "    </tr>\n",
       "    <tr>\n",
       "      <th>juliusz_slowacki</th>\n",
       "      <td>311.29</td>\n",
       "      <td>410.94</td>\n",
       "      <td>378.01</td>\n",
       "      <td>516.05</td>\n",
       "      <td>0.00</td>\n",
       "      <td>437.13</td>\n",
       "      <td>338.48</td>\n",
       "      <td>393.70</td>\n",
       "      <td>467.22</td>\n",
       "    </tr>\n",
       "    <tr>\n",
       "      <th>stanislaw_wyspianski</th>\n",
       "      <td>449.23</td>\n",
       "      <td>464.85</td>\n",
       "      <td>445.90</td>\n",
       "      <td>516.41</td>\n",
       "      <td>437.13</td>\n",
       "      <td>0.00</td>\n",
       "      <td>400.07</td>\n",
       "      <td>444.94</td>\n",
       "      <td>608.21</td>\n",
       "    </tr>\n",
       "    <tr>\n",
       "      <th>eliza_orzeszkowa</th>\n",
       "      <td>294.43</td>\n",
       "      <td>324.96</td>\n",
       "      <td>405.58</td>\n",
       "      <td>399.36</td>\n",
       "      <td>338.48</td>\n",
       "      <td>400.07</td>\n",
       "      <td>0.00</td>\n",
       "      <td>286.29</td>\n",
       "      <td>519.28</td>\n",
       "    </tr>\n",
       "    <tr>\n",
       "      <th>maria_konopnicka</th>\n",
       "      <td>371.26</td>\n",
       "      <td>327.36</td>\n",
       "      <td>449.51</td>\n",
       "      <td>367.49</td>\n",
       "      <td>393.70</td>\n",
       "      <td>444.94</td>\n",
       "      <td>286.29</td>\n",
       "      <td>0.00</td>\n",
       "      <td>576.05</td>\n",
       "    </tr>\n",
       "    <tr>\n",
       "      <th>krzysztof_kamil_baczynski</th>\n",
       "      <td>514.96</td>\n",
       "      <td>624.17</td>\n",
       "      <td>487.56</td>\n",
       "      <td>694.55</td>\n",
       "      <td>467.22</td>\n",
       "      <td>608.21</td>\n",
       "      <td>519.28</td>\n",
       "      <td>576.05</td>\n",
       "      <td>0.00</td>\n",
       "    </tr>\n",
       "  </tbody>\n",
       "</table>\n",
       "</div>"
      ],
      "text/plain": [
       "                            adam_mickiewicz  henryk_sienkiewicz  \\\n",
       "adam_mickiewicz                        0.00              386.08   \n",
       "henryk_sienkiewicz                   386.08                0.00   \n",
       "kazimierz_przerwa_tetmajer           410.30              493.47   \n",
       "jozef_ignacy_kraszewski              478.92              329.01   \n",
       "juliusz_slowacki                     311.29              410.94   \n",
       "stanislaw_wyspianski                 449.23              464.85   \n",
       "eliza_orzeszkowa                     294.43              324.96   \n",
       "maria_konopnicka                     371.26              327.36   \n",
       "krzysztof_kamil_baczynski            514.96              624.17   \n",
       "\n",
       "                            kazimierz_przerwa_tetmajer  \\\n",
       "adam_mickiewicz                                 410.30   \n",
       "henryk_sienkiewicz                              493.47   \n",
       "kazimierz_przerwa_tetmajer                        0.00   \n",
       "jozef_ignacy_kraszewski                         535.92   \n",
       "juliusz_slowacki                                378.01   \n",
       "stanislaw_wyspianski                            445.90   \n",
       "eliza_orzeszkowa                                405.58   \n",
       "maria_konopnicka                                449.51   \n",
       "krzysztof_kamil_baczynski                       487.56   \n",
       "\n",
       "                            jozef_ignacy_kraszewski  juliusz_slowacki  \\\n",
       "adam_mickiewicz                              478.92            311.29   \n",
       "henryk_sienkiewicz                           329.01            410.94   \n",
       "kazimierz_przerwa_tetmajer                   535.92            378.01   \n",
       "jozef_ignacy_kraszewski                        0.00            516.05   \n",
       "juliusz_slowacki                             516.05              0.00   \n",
       "stanislaw_wyspianski                         516.41            437.13   \n",
       "eliza_orzeszkowa                             399.36            338.48   \n",
       "maria_konopnicka                             367.49            393.70   \n",
       "krzysztof_kamil_baczynski                    694.55            467.22   \n",
       "\n",
       "                            stanislaw_wyspianski  eliza_orzeszkowa  \\\n",
       "adam_mickiewicz                           449.23            294.43   \n",
       "henryk_sienkiewicz                        464.85            324.96   \n",
       "kazimierz_przerwa_tetmajer                445.90            405.58   \n",
       "jozef_ignacy_kraszewski                   516.41            399.36   \n",
       "juliusz_slowacki                          437.13            338.48   \n",
       "stanislaw_wyspianski                        0.00            400.07   \n",
       "eliza_orzeszkowa                          400.07              0.00   \n",
       "maria_konopnicka                          444.94            286.29   \n",
       "krzysztof_kamil_baczynski                 608.21            519.28   \n",
       "\n",
       "                            maria_konopnicka  krzysztof_kamil_baczynski  \n",
       "adam_mickiewicz                       371.26                     514.96  \n",
       "henryk_sienkiewicz                    327.36                     624.17  \n",
       "kazimierz_przerwa_tetmajer            449.51                     487.56  \n",
       "jozef_ignacy_kraszewski               367.49                     694.55  \n",
       "juliusz_slowacki                      393.70                     467.22  \n",
       "stanislaw_wyspianski                  444.94                     608.21  \n",
       "eliza_orzeszkowa                      286.29                     519.28  \n",
       "maria_konopnicka                        0.00                     576.05  \n",
       "krzysztof_kamil_baczynski             576.05                       0.00  "
      ]
     },
     "execution_count": 393,
     "metadata": {},
     "output_type": "execute_result"
    }
   ],
   "source": [
    "n, _ = dtm.shape\n",
    "dist = np.zeros((n, n))\n",
    "\n",
    "for i in range(n):\n",
    "    for j in range(n):\n",
    "        x, y = dtm[i, :], dtm[j, :]\n",
    "        dist[i, j] = np.sqrt(np.sum((x - y)**2))\n",
    "pd.DataFrame(dist, columns=authors, index=authors).round(2)"
   ]
  },
  {
   "cell_type": "markdown",
   "metadata": {},
   "source": [
    "## Compute Euclidean distance (using sklearn)"
   ]
  },
  {
   "cell_type": "code",
   "execution_count": 394,
   "metadata": {
    "collapsed": false
   },
   "outputs": [
    {
     "data": {
      "text/html": [
       "<div>\n",
       "<table border=\"1\" class=\"dataframe\">\n",
       "  <thead>\n",
       "    <tr style=\"text-align: right;\">\n",
       "      <th></th>\n",
       "      <th>adam_mickiewicz</th>\n",
       "      <th>henryk_sienkiewicz</th>\n",
       "      <th>kazimierz_przerwa_tetmajer</th>\n",
       "      <th>jozef_ignacy_kraszewski</th>\n",
       "      <th>juliusz_slowacki</th>\n",
       "      <th>stanislaw_wyspianski</th>\n",
       "      <th>eliza_orzeszkowa</th>\n",
       "      <th>maria_konopnicka</th>\n",
       "      <th>krzysztof_kamil_baczynski</th>\n",
       "    </tr>\n",
       "  </thead>\n",
       "  <tbody>\n",
       "    <tr>\n",
       "      <th>adam_mickiewicz</th>\n",
       "      <td>0.00</td>\n",
       "      <td>386.08</td>\n",
       "      <td>410.30</td>\n",
       "      <td>478.92</td>\n",
       "      <td>311.29</td>\n",
       "      <td>449.23</td>\n",
       "      <td>294.43</td>\n",
       "      <td>371.26</td>\n",
       "      <td>514.96</td>\n",
       "    </tr>\n",
       "    <tr>\n",
       "      <th>henryk_sienkiewicz</th>\n",
       "      <td>386.08</td>\n",
       "      <td>0.00</td>\n",
       "      <td>493.47</td>\n",
       "      <td>329.01</td>\n",
       "      <td>410.94</td>\n",
       "      <td>464.85</td>\n",
       "      <td>324.96</td>\n",
       "      <td>327.36</td>\n",
       "      <td>624.17</td>\n",
       "    </tr>\n",
       "    <tr>\n",
       "      <th>kazimierz_przerwa_tetmajer</th>\n",
       "      <td>410.30</td>\n",
       "      <td>493.47</td>\n",
       "      <td>0.00</td>\n",
       "      <td>535.92</td>\n",
       "      <td>378.01</td>\n",
       "      <td>445.90</td>\n",
       "      <td>405.58</td>\n",
       "      <td>449.51</td>\n",
       "      <td>487.56</td>\n",
       "    </tr>\n",
       "    <tr>\n",
       "      <th>jozef_ignacy_kraszewski</th>\n",
       "      <td>478.92</td>\n",
       "      <td>329.01</td>\n",
       "      <td>535.92</td>\n",
       "      <td>0.00</td>\n",
       "      <td>516.05</td>\n",
       "      <td>516.41</td>\n",
       "      <td>399.36</td>\n",
       "      <td>367.49</td>\n",
       "      <td>694.55</td>\n",
       "    </tr>\n",
       "    <tr>\n",
       "      <th>juliusz_slowacki</th>\n",
       "      <td>311.29</td>\n",
       "      <td>410.94</td>\n",
       "      <td>378.01</td>\n",
       "      <td>516.05</td>\n",
       "      <td>0.00</td>\n",
       "      <td>437.13</td>\n",
       "      <td>338.48</td>\n",
       "      <td>393.70</td>\n",
       "      <td>467.22</td>\n",
       "    </tr>\n",
       "    <tr>\n",
       "      <th>stanislaw_wyspianski</th>\n",
       "      <td>449.23</td>\n",
       "      <td>464.85</td>\n",
       "      <td>445.90</td>\n",
       "      <td>516.41</td>\n",
       "      <td>437.13</td>\n",
       "      <td>0.00</td>\n",
       "      <td>400.07</td>\n",
       "      <td>444.94</td>\n",
       "      <td>608.21</td>\n",
       "    </tr>\n",
       "    <tr>\n",
       "      <th>eliza_orzeszkowa</th>\n",
       "      <td>294.43</td>\n",
       "      <td>324.96</td>\n",
       "      <td>405.58</td>\n",
       "      <td>399.36</td>\n",
       "      <td>338.48</td>\n",
       "      <td>400.07</td>\n",
       "      <td>0.00</td>\n",
       "      <td>286.29</td>\n",
       "      <td>519.28</td>\n",
       "    </tr>\n",
       "    <tr>\n",
       "      <th>maria_konopnicka</th>\n",
       "      <td>371.26</td>\n",
       "      <td>327.36</td>\n",
       "      <td>449.51</td>\n",
       "      <td>367.49</td>\n",
       "      <td>393.70</td>\n",
       "      <td>444.94</td>\n",
       "      <td>286.29</td>\n",
       "      <td>0.00</td>\n",
       "      <td>576.05</td>\n",
       "    </tr>\n",
       "    <tr>\n",
       "      <th>krzysztof_kamil_baczynski</th>\n",
       "      <td>514.96</td>\n",
       "      <td>624.17</td>\n",
       "      <td>487.56</td>\n",
       "      <td>694.55</td>\n",
       "      <td>467.22</td>\n",
       "      <td>608.21</td>\n",
       "      <td>519.28</td>\n",
       "      <td>576.05</td>\n",
       "      <td>0.00</td>\n",
       "    </tr>\n",
       "  </tbody>\n",
       "</table>\n",
       "</div>"
      ],
      "text/plain": [
       "                            adam_mickiewicz  henryk_sienkiewicz  \\\n",
       "adam_mickiewicz                        0.00              386.08   \n",
       "henryk_sienkiewicz                   386.08                0.00   \n",
       "kazimierz_przerwa_tetmajer           410.30              493.47   \n",
       "jozef_ignacy_kraszewski              478.92              329.01   \n",
       "juliusz_slowacki                     311.29              410.94   \n",
       "stanislaw_wyspianski                 449.23              464.85   \n",
       "eliza_orzeszkowa                     294.43              324.96   \n",
       "maria_konopnicka                     371.26              327.36   \n",
       "krzysztof_kamil_baczynski            514.96              624.17   \n",
       "\n",
       "                            kazimierz_przerwa_tetmajer  \\\n",
       "adam_mickiewicz                                 410.30   \n",
       "henryk_sienkiewicz                              493.47   \n",
       "kazimierz_przerwa_tetmajer                        0.00   \n",
       "jozef_ignacy_kraszewski                         535.92   \n",
       "juliusz_slowacki                                378.01   \n",
       "stanislaw_wyspianski                            445.90   \n",
       "eliza_orzeszkowa                                405.58   \n",
       "maria_konopnicka                                449.51   \n",
       "krzysztof_kamil_baczynski                       487.56   \n",
       "\n",
       "                            jozef_ignacy_kraszewski  juliusz_slowacki  \\\n",
       "adam_mickiewicz                              478.92            311.29   \n",
       "henryk_sienkiewicz                           329.01            410.94   \n",
       "kazimierz_przerwa_tetmajer                   535.92            378.01   \n",
       "jozef_ignacy_kraszewski                        0.00            516.05   \n",
       "juliusz_slowacki                             516.05              0.00   \n",
       "stanislaw_wyspianski                         516.41            437.13   \n",
       "eliza_orzeszkowa                             399.36            338.48   \n",
       "maria_konopnicka                             367.49            393.70   \n",
       "krzysztof_kamil_baczynski                    694.55            467.22   \n",
       "\n",
       "                            stanislaw_wyspianski  eliza_orzeszkowa  \\\n",
       "adam_mickiewicz                           449.23            294.43   \n",
       "henryk_sienkiewicz                        464.85            324.96   \n",
       "kazimierz_przerwa_tetmajer                445.90            405.58   \n",
       "jozef_ignacy_kraszewski                   516.41            399.36   \n",
       "juliusz_slowacki                          437.13            338.48   \n",
       "stanislaw_wyspianski                        0.00            400.07   \n",
       "eliza_orzeszkowa                          400.07              0.00   \n",
       "maria_konopnicka                          444.94            286.29   \n",
       "krzysztof_kamil_baczynski                 608.21            519.28   \n",
       "\n",
       "                            maria_konopnicka  krzysztof_kamil_baczynski  \n",
       "adam_mickiewicz                       371.26                     514.96  \n",
       "henryk_sienkiewicz                    327.36                     624.17  \n",
       "kazimierz_przerwa_tetmajer            449.51                     487.56  \n",
       "jozef_ignacy_kraszewski               367.49                     694.55  \n",
       "juliusz_slowacki                      393.70                     467.22  \n",
       "stanislaw_wyspianski                  444.94                     608.21  \n",
       "eliza_orzeszkowa                      286.29                     519.28  \n",
       "maria_konopnicka                        0.00                     576.05  \n",
       "krzysztof_kamil_baczynski             576.05                       0.00  "
      ]
     },
     "execution_count": 394,
     "metadata": {},
     "output_type": "execute_result"
    }
   ],
   "source": [
    "from sklearn.metrics.pairwise import euclidean_distances\n",
    "dist = euclidean_distances(dtm)\n",
    "pd.DataFrame(dist, columns=authors, index=authors).round(2)"
   ]
  },
  {
   "cell_type": "markdown",
   "metadata": {},
   "source": [
    "## Compute cosine similarity"
   ]
  },
  {
   "cell_type": "code",
   "execution_count": 395,
   "metadata": {
    "collapsed": false
   },
   "outputs": [
    {
     "data": {
      "text/html": [
       "<div>\n",
       "<table border=\"1\" class=\"dataframe\">\n",
       "  <thead>\n",
       "    <tr style=\"text-align: right;\">\n",
       "      <th></th>\n",
       "      <th>adam_mickiewicz</th>\n",
       "      <th>henryk_sienkiewicz</th>\n",
       "      <th>kazimierz_przerwa_tetmajer</th>\n",
       "      <th>jozef_ignacy_kraszewski</th>\n",
       "      <th>juliusz_slowacki</th>\n",
       "      <th>stanislaw_wyspianski</th>\n",
       "      <th>eliza_orzeszkowa</th>\n",
       "      <th>maria_konopnicka</th>\n",
       "      <th>krzysztof_kamil_baczynski</th>\n",
       "    </tr>\n",
       "  </thead>\n",
       "  <tbody>\n",
       "    <tr>\n",
       "      <th>adam_mickiewicz</th>\n",
       "      <td>1.00</td>\n",
       "      <td>0.93</td>\n",
       "      <td>0.86</td>\n",
       "      <td>0.90</td>\n",
       "      <td>0.92</td>\n",
       "      <td>0.85</td>\n",
       "      <td>0.93</td>\n",
       "      <td>0.92</td>\n",
       "      <td>0.80</td>\n",
       "    </tr>\n",
       "    <tr>\n",
       "      <th>henryk_sienkiewicz</th>\n",
       "      <td>0.93</td>\n",
       "      <td>1.00</td>\n",
       "      <td>0.86</td>\n",
       "      <td>0.95</td>\n",
       "      <td>0.91</td>\n",
       "      <td>0.88</td>\n",
       "      <td>0.95</td>\n",
       "      <td>0.94</td>\n",
       "      <td>0.77</td>\n",
       "    </tr>\n",
       "    <tr>\n",
       "      <th>kazimierz_przerwa_tetmajer</th>\n",
       "      <td>0.86</td>\n",
       "      <td>0.86</td>\n",
       "      <td>1.00</td>\n",
       "      <td>0.86</td>\n",
       "      <td>0.89</td>\n",
       "      <td>0.85</td>\n",
       "      <td>0.87</td>\n",
       "      <td>0.88</td>\n",
       "      <td>0.82</td>\n",
       "    </tr>\n",
       "    <tr>\n",
       "      <th>jozef_ignacy_kraszewski</th>\n",
       "      <td>0.90</td>\n",
       "      <td>0.95</td>\n",
       "      <td>0.86</td>\n",
       "      <td>1.00</td>\n",
       "      <td>0.87</td>\n",
       "      <td>0.87</td>\n",
       "      <td>0.94</td>\n",
       "      <td>0.94</td>\n",
       "      <td>0.75</td>\n",
       "    </tr>\n",
       "    <tr>\n",
       "      <th>juliusz_slowacki</th>\n",
       "      <td>0.92</td>\n",
       "      <td>0.91</td>\n",
       "      <td>0.89</td>\n",
       "      <td>0.87</td>\n",
       "      <td>1.00</td>\n",
       "      <td>0.86</td>\n",
       "      <td>0.91</td>\n",
       "      <td>0.91</td>\n",
       "      <td>0.84</td>\n",
       "    </tr>\n",
       "    <tr>\n",
       "      <th>stanislaw_wyspianski</th>\n",
       "      <td>0.85</td>\n",
       "      <td>0.88</td>\n",
       "      <td>0.85</td>\n",
       "      <td>0.87</td>\n",
       "      <td>0.86</td>\n",
       "      <td>1.00</td>\n",
       "      <td>0.88</td>\n",
       "      <td>0.88</td>\n",
       "      <td>0.74</td>\n",
       "    </tr>\n",
       "    <tr>\n",
       "      <th>eliza_orzeszkowa</th>\n",
       "      <td>0.93</td>\n",
       "      <td>0.95</td>\n",
       "      <td>0.87</td>\n",
       "      <td>0.94</td>\n",
       "      <td>0.91</td>\n",
       "      <td>0.88</td>\n",
       "      <td>1.00</td>\n",
       "      <td>0.96</td>\n",
       "      <td>0.80</td>\n",
       "    </tr>\n",
       "    <tr>\n",
       "      <th>maria_konopnicka</th>\n",
       "      <td>0.92</td>\n",
       "      <td>0.94</td>\n",
       "      <td>0.88</td>\n",
       "      <td>0.94</td>\n",
       "      <td>0.91</td>\n",
       "      <td>0.88</td>\n",
       "      <td>0.96</td>\n",
       "      <td>1.00</td>\n",
       "      <td>0.79</td>\n",
       "    </tr>\n",
       "    <tr>\n",
       "      <th>krzysztof_kamil_baczynski</th>\n",
       "      <td>0.80</td>\n",
       "      <td>0.77</td>\n",
       "      <td>0.82</td>\n",
       "      <td>0.75</td>\n",
       "      <td>0.84</td>\n",
       "      <td>0.74</td>\n",
       "      <td>0.80</td>\n",
       "      <td>0.79</td>\n",
       "      <td>1.00</td>\n",
       "    </tr>\n",
       "  </tbody>\n",
       "</table>\n",
       "</div>"
      ],
      "text/plain": [
       "                            adam_mickiewicz  henryk_sienkiewicz  \\\n",
       "adam_mickiewicz                        1.00                0.93   \n",
       "henryk_sienkiewicz                     0.93                1.00   \n",
       "kazimierz_przerwa_tetmajer             0.86                0.86   \n",
       "jozef_ignacy_kraszewski                0.90                0.95   \n",
       "juliusz_slowacki                       0.92                0.91   \n",
       "stanislaw_wyspianski                   0.85                0.88   \n",
       "eliza_orzeszkowa                       0.93                0.95   \n",
       "maria_konopnicka                       0.92                0.94   \n",
       "krzysztof_kamil_baczynski              0.80                0.77   \n",
       "\n",
       "                            kazimierz_przerwa_tetmajer  \\\n",
       "adam_mickiewicz                                   0.86   \n",
       "henryk_sienkiewicz                                0.86   \n",
       "kazimierz_przerwa_tetmajer                        1.00   \n",
       "jozef_ignacy_kraszewski                           0.86   \n",
       "juliusz_slowacki                                  0.89   \n",
       "stanislaw_wyspianski                              0.85   \n",
       "eliza_orzeszkowa                                  0.87   \n",
       "maria_konopnicka                                  0.88   \n",
       "krzysztof_kamil_baczynski                         0.82   \n",
       "\n",
       "                            jozef_ignacy_kraszewski  juliusz_slowacki  \\\n",
       "adam_mickiewicz                                0.90              0.92   \n",
       "henryk_sienkiewicz                             0.95              0.91   \n",
       "kazimierz_przerwa_tetmajer                     0.86              0.89   \n",
       "jozef_ignacy_kraszewski                        1.00              0.87   \n",
       "juliusz_slowacki                               0.87              1.00   \n",
       "stanislaw_wyspianski                           0.87              0.86   \n",
       "eliza_orzeszkowa                               0.94              0.91   \n",
       "maria_konopnicka                               0.94              0.91   \n",
       "krzysztof_kamil_baczynski                      0.75              0.84   \n",
       "\n",
       "                            stanislaw_wyspianski  eliza_orzeszkowa  \\\n",
       "adam_mickiewicz                             0.85              0.93   \n",
       "henryk_sienkiewicz                          0.88              0.95   \n",
       "kazimierz_przerwa_tetmajer                  0.85              0.87   \n",
       "jozef_ignacy_kraszewski                     0.87              0.94   \n",
       "juliusz_slowacki                            0.86              0.91   \n",
       "stanislaw_wyspianski                        1.00              0.88   \n",
       "eliza_orzeszkowa                            0.88              1.00   \n",
       "maria_konopnicka                            0.88              0.96   \n",
       "krzysztof_kamil_baczynski                   0.74              0.80   \n",
       "\n",
       "                            maria_konopnicka  krzysztof_kamil_baczynski  \n",
       "adam_mickiewicz                         0.92                       0.80  \n",
       "henryk_sienkiewicz                      0.94                       0.77  \n",
       "kazimierz_przerwa_tetmajer              0.88                       0.82  \n",
       "jozef_ignacy_kraszewski                 0.94                       0.75  \n",
       "juliusz_slowacki                        0.91                       0.84  \n",
       "stanislaw_wyspianski                    0.88                       0.74  \n",
       "eliza_orzeszkowa                        0.96                       0.80  \n",
       "maria_konopnicka                        1.00                       0.79  \n",
       "krzysztof_kamil_baczynski               0.79                       1.00  "
      ]
     },
     "execution_count": 395,
     "metadata": {},
     "output_type": "execute_result"
    }
   ],
   "source": [
    "from sklearn.metrics.pairwise import cosine_similarity\n",
    "dist = cosine_similarity(dtm)\n",
    "pd.DataFrame(dist, columns=authors, index=authors).round(2)"
   ]
  },
  {
   "cell_type": "markdown",
   "metadata": {},
   "source": [
    "## Visualize distances"
   ]
  },
  {
   "cell_type": "code",
   "execution_count": 396,
   "metadata": {
    "collapsed": true
   },
   "outputs": [],
   "source": [
    "from sklearn.manifold import MDS"
   ]
  },
  {
   "cell_type": "code",
   "execution_count": 397,
   "metadata": {
    "collapsed": true
   },
   "outputs": [],
   "source": [
    "mds = MDS(n_components=2, dissimilarity=\"precomputed\", random_state=1)\n",
    "pos = mds.fit_transform(dist)"
   ]
  },
  {
   "cell_type": "code",
   "execution_count": 398,
   "metadata": {
    "collapsed": false
   },
   "outputs": [
    {
     "data": {
      "image/png": "[encoded data removed]",
      "text/plain": [
       "<matplotlib.figure.Figure at 0x7f81afbe2690>"
      ]
     },
     "metadata": {},
     "output_type": "display_data"
    }
   ],
   "source": [
    "xs, ys = pos[:, 0], pos[:, 1]\n",
    "for x, y, name in zip(xs, ys, authors):\n",
    "    plt.scatter(x, y)\n",
    "    plt.text(x, y, name)\n",
    "plt.show()"
   ]
  },
  {
   "cell_type": "code",
   "execution_count": 399,
   "metadata": {
    "collapsed": true
   },
   "outputs": [],
   "source": [
    "mds = MDS(n_components=3, dissimilarity=\"precomputed\", random_state=1)\n",
    "pos = mds.fit_transform(dist)"
   ]
  },
  {
   "cell_type": "code",
   "execution_count": 400,
   "metadata": {
    "collapsed": false
   },
   "outputs": [
    {
     "data": {
      "image/png": "[encoded data removed]",
      "text/plain": [
       "<matplotlib.figure.Figure at 0x7f81b0018e10>"
      ]
     },
     "metadata": {},
     "output_type": "display_data"
    }
   ],
   "source": [
    "from mpl_toolkits.mplot3d import Axes3D\n",
    "fig = plt.figure(figsize=(10, 10))\n",
    "ax = fig.add_subplot(111, projection='3d')\n",
    "ax.scatter(pos[:, 0], pos[:, 1], pos[:, 2])\n",
    "for x, y, z, s in zip(pos[:, 0], pos[:, 1], pos[:, 2], authors):\n",
    "    ax.text(x, y, z, s)\n",
    "plt.show()"
   ]
  },
  {
   "cell_type": "code",
   "execution_count": 401,
   "metadata": {
    "collapsed": false
   },
   "outputs": [
    {
     "data": {
      "image/png": "[encoded data removed]",
      "text/plain": [
       "<matplotlib.figure.Figure at 0x7f81aec75190>"
      ]
     },
     "metadata": {},
     "output_type": "display_data"
    }
   ],
   "source": [
    "from scipy.cluster.hierarchy import ward, dendrogram\n",
    "linkage_matrix = ward(dist)\n",
    "dendrogram(linkage_matrix, orientation=\"right\", labels=authors)\n",
    "plt.tight_layout()  # fixes margins\n",
    "plt.show()"
   ]
  },
  {
   "cell_type": "markdown",
   "metadata": {},
   "source": [
    "## Analyse topics"
   ]
  },
  {
   "cell_type": "markdown",
   "metadata": {},
   "source": [
    "### Remove stop words from corpus"
   ]
  },
  {
   "cell_type": "code",
   "execution_count": 481,
   "metadata": {
    "collapsed": false
   },
   "outputs": [],
   "source": [
    "stop_words = [u'mną', u'miała', u'wśród', 'wy', 'tem', 'nam', 'we', u'mógł', u'jéj', 'potem', 'znowu', 'bardzo', u'których', u'przecież', 'niech', u'choć', u'której', 'we', 'ach', u'cóż', 'niech', u'będzie', u'coś', 'poza', u'jeżeli', u'jeśli', u'też', 'nich', 'im', u'są', 'jam', 'tych', 'raz', 'niej', u'która', 'jakby', 'ona', 'wtedy', 'jakby', 'oto', 'albo', u'są', 'der', 'die', 'und', 'nas', 'sie', 'du', 'was', 'den', 'in', u'aż', 'je', u'cię', 'ta', 'siebie', u'może', 'tym', 'nic', u'być', 'niego', 'ci', u'miał', 'bez', u'zaś', 'te', u'mój', u'była', 'aby', 'by', u'iż', 'ani', 'będzie', u'więc', 'przy', 'swej', u'które', 'ich', 'jeszcze', 'tego', 'sobie', 'przez', 'ku', 'być', 'też', 'które', 'sam', 'nawet', 'nad', 'tam', 'pod', 'tej', 'ma', u'nią', u'teraz', u'ją', u'który', u'kto', u'gdzie', u'kiedy', 'ze', 'on', 'nim', 'czy', 'ten', 'przed', u'tylko', u'jego', u'gdy', u'był', u'j', u'co', u'mi', u'ale', u'za', u'już', u'jest', u'go', u'ty', u'pod', u'tak', u'się', u'dla', u'quot', u'na', u'tu', u'to', u'lub', u'było', u'jak', u'jej', u'po', u'pan', u'że', u'do', u'jako', u'bo', u'nie', u'mnie', u'ja', u'a', u'c', u'b', u'e', u'd', u'i', u'h', u'k', u'od', u'm', u'l', u'o', u'mu', u'p', u's', u'r', 'lecz', u'w', u'v', u'x', u'the', u'z']"
   ]
  },
  {
   "cell_type": "code",
   "execution_count": 482,
   "metadata": {
    "collapsed": true
   },
   "outputs": [],
   "source": [
    "vectorizer = CountVectorizer(stop_words=stop_words)\n",
    "dtm = vectorizer.fit_transform(raw_data.values()).toarray() \n",
    "vocab = np.array(vectorizer.get_feature_names())"
   ]
  },
  {
   "cell_type": "markdown",
   "metadata": {},
   "source": [
    "### Create topics using NMF"
   ]
  },
  {
   "cell_type": "code",
   "execution_count": 483,
   "metadata": {
    "collapsed": false
   },
   "outputs": [],
   "source": [
    "from sklearn import decomposition\n",
    "num_topics = 6\n",
    "num_top_words = 20\n",
    "clf = decomposition.NMF(n_components=num_topics, random_state=1)"
   ]
  },
  {
   "cell_type": "code",
   "execution_count": 484,
   "metadata": {
    "collapsed": false
   },
   "outputs": [],
   "source": [
    "doctopic = clf.fit_transform(dtm)"
   ]
  },
  {
   "cell_type": "code",
   "execution_count": 485,
   "metadata": {
    "collapsed": false
   },
   "outputs": [],
   "source": [
    "topic_words = []\n",
    "for topic in clf.components_:\n",
    "    word_idx = np.argsort(topic)[::-1][0:num_top_words]\n",
    "    topic_words.append([vocab[i] for i in word_idx])"
   ]
  },
  {
   "cell_type": "code",
   "execution_count": 486,
   "metadata": {
    "collapsed": true
   },
   "outputs": [],
   "source": [
    "doctopic = doctopic / np.sum(doctopic, axis=1, keepdims=True)"
   ]
  },
  {
   "cell_type": "code",
   "execution_count": 487,
   "metadata": {
    "collapsed": true
   },
   "outputs": [],
   "source": [
    "doctopic_orig = doctopic.copy()\n",
    "authors_names = np.asarray(authors)\n",
    "num_groups = len(set(authors_names))\n",
    "\n",
    "doctopic_grouped = np.zeros((num_groups, num_topics))\n",
    "for i, name in enumerate(sorted(set(authors_names))):\n",
    "    doctopic_grouped[i, :] = np.mean(doctopic[authors_names == name, :], axis=0)\n",
    "doctopic = doctopic_grouped"
   ]
  },
  {
   "cell_type": "markdown",
   "metadata": {},
   "source": [
    "## Most popular tokens in each topic"
   ]
  },
  {
   "cell_type": "code",
   "execution_count": 488,
   "metadata": {
    "collapsed": false
   },
   "outputs": [
    {
     "data": {
      "text/html": [
       "<div>\n",
       "<table border=\"1\" class=\"dataframe\">\n",
       "  <thead>\n",
       "    <tr style=\"text-align: right;\">\n",
       "      <th></th>\n",
       "      <th>Topic</th>\n",
       "      <th>Top 1</th>\n",
       "      <th>Top 2</th>\n",
       "      <th>Top 3</th>\n",
       "      <th>Top 4</th>\n",
       "      <th>Top 5</th>\n",
       "      <th>Top 6</th>\n",
       "      <th>Top 7</th>\n",
       "      <th>Top 8</th>\n",
       "      <th>Top 9</th>\n",
       "      <th>Top 10</th>\n",
       "    </tr>\n",
       "  </thead>\n",
       "  <tbody>\n",
       "    <tr>\n",
       "      <th>0</th>\n",
       "      <td>Topic 0</td>\n",
       "      <td>rzekł</td>\n",
       "      <td>jednak</td>\n",
       "      <td>pani</td>\n",
       "      <td>oczy</td>\n",
       "      <td>pana</td>\n",
       "      <td>wszystko</td>\n",
       "      <td>dobrze</td>\n",
       "      <td>ziemi</td>\n",
       "      <td>ludzi</td>\n",
       "      <td>chwili</td>\n",
       "    </tr>\n",
       "    <tr>\n",
       "      <th>1</th>\n",
       "      <td>Topic 1</td>\n",
       "      <td>judasz</td>\n",
       "      <td>jakób</td>\n",
       "      <td>oczy</td>\n",
       "      <td>nieznany</td>\n",
       "      <td>ziemi</td>\n",
       "      <td>wszystko</td>\n",
       "      <td>krew</td>\n",
       "      <td>świat</td>\n",
       "      <td>serce</td>\n",
       "      <td>duszy</td>\n",
       "    </tr>\n",
       "    <tr>\n",
       "      <th>2</th>\n",
       "      <td>Topic 2</td>\n",
       "      <td>ziemi</td>\n",
       "      <td>niebo</td>\n",
       "      <td>noc</td>\n",
       "      <td>ziemia</td>\n",
       "      <td>oczy</td>\n",
       "      <td>czas</td>\n",
       "      <td>nieba</td>\n",
       "      <td>drzewa</td>\n",
       "      <td>ziemię</td>\n",
       "      <td>ptaki</td>\n",
       "    </tr>\n",
       "    <tr>\n",
       "      <th>3</th>\n",
       "      <td>Topic 3</td>\n",
       "      <td>życia</td>\n",
       "      <td>życie</td>\n",
       "      <td>konrad</td>\n",
       "      <td>myśli</td>\n",
       "      <td>myśl</td>\n",
       "      <td>duszy</td>\n",
       "      <td>poeta</td>\n",
       "      <td>właśnie</td>\n",
       "      <td>wszystko</td>\n",
       "      <td>maska</td>\n",
       "    </tr>\n",
       "    <tr>\n",
       "      <th>4</th>\n",
       "      <td>Topic 4</td>\n",
       "      <td>król</td>\n",
       "      <td>panie</td>\n",
       "      <td>ciebie</td>\n",
       "      <td>oczy</td>\n",
       "      <td>ludzi</td>\n",
       "      <td>moje</td>\n",
       "      <td>balladyna</td>\n",
       "      <td>serce</td>\n",
       "      <td>boga</td>\n",
       "      <td>maria</td>\n",
       "    </tr>\n",
       "    <tr>\n",
       "      <th>5</th>\n",
       "      <td>Topic 5</td>\n",
       "      <td>kaśka</td>\n",
       "      <td>pani</td>\n",
       "      <td>wszystko</td>\n",
       "      <td>oczy</td>\n",
       "      <td>kaśki</td>\n",
       "      <td>ręce</td>\n",
       "      <td>jan</td>\n",
       "      <td>wie</td>\n",
       "      <td>nigdy</td>\n",
       "      <td>chwilę</td>\n",
       "    </tr>\n",
       "  </tbody>\n",
       "</table>\n",
       "</div>"
      ],
      "text/plain": [
       "     Topic   Top 1   Top 2     Top 3     Top 4  Top 5     Top 6      Top 7  \\\n",
       "0  Topic 0   rzekł  jednak      pani      oczy   pana  wszystko     dobrze   \n",
       "1  Topic 1  judasz   jakób      oczy  nieznany  ziemi  wszystko       krew   \n",
       "2  Topic 2   ziemi   niebo       noc    ziemia   oczy      czas      nieba   \n",
       "3  Topic 3   życia   życie    konrad     myśli   myśl     duszy      poeta   \n",
       "4  Topic 4    król   panie    ciebie      oczy  ludzi      moje  balladyna   \n",
       "5  Topic 5   kaśka    pani  wszystko      oczy  kaśki      ręce        jan   \n",
       "\n",
       "     Top 8     Top 9  Top 10  \n",
       "0    ziemi     ludzi  chwili  \n",
       "1    świat     serce   duszy  \n",
       "2   drzewa    ziemię   ptaki  \n",
       "3  właśnie  wszystko   maska  \n",
       "4    serce      boga   maria  \n",
       "5      wie     nigdy  chwilę  "
      ]
     },
     "execution_count": 488,
     "metadata": {},
     "output_type": "execute_result"
    }
   ],
   "source": [
    "data = []\n",
    "for t in range(len(topic_words)):\n",
    "     data.append([u\"Topic {}\".format(t)] + topic_words[t][:10])\n",
    "pd.DataFrame(data, columns=[\"Topic\"]+[\"Top {}\".format(x+1) for x in xrange(10)])"
   ]
  },
  {
   "cell_type": "markdown",
   "metadata": {},
   "source": [
    "## Topics in authors work"
   ]
  },
  {
   "cell_type": "code",
   "execution_count": 489,
   "metadata": {
    "collapsed": false
   },
   "outputs": [
    {
     "data": {
      "text/html": [
       "<div>\n",
       "<table border=\"1\" class=\"dataframe\">\n",
       "  <thead>\n",
       "    <tr style=\"text-align: right;\">\n",
       "      <th></th>\n",
       "      <th>Topic 0</th>\n",
       "      <th>Topic 1</th>\n",
       "      <th>Topic 2</th>\n",
       "      <th>Topic 3</th>\n",
       "      <th>Topic 4</th>\n",
       "      <th>Topic 5</th>\n",
       "    </tr>\n",
       "  </thead>\n",
       "  <tbody>\n",
       "    <tr>\n",
       "      <th>adam_mickiewicz</th>\n",
       "      <td>0.68</td>\n",
       "      <td>0.02</td>\n",
       "      <td>0.11</td>\n",
       "      <td>0.00</td>\n",
       "      <td>0.18</td>\n",
       "      <td>0.00</td>\n",
       "    </tr>\n",
       "    <tr>\n",
       "      <th>henryk_sienkiewicz</th>\n",
       "      <td>0.47</td>\n",
       "      <td>0.03</td>\n",
       "      <td>0.03</td>\n",
       "      <td>0.08</td>\n",
       "      <td>0.00</td>\n",
       "      <td>0.39</td>\n",
       "    </tr>\n",
       "    <tr>\n",
       "      <th>kazimierz_przerwa_tetmajer</th>\n",
       "      <td>1.00</td>\n",
       "      <td>0.00</td>\n",
       "      <td>0.00</td>\n",
       "      <td>0.00</td>\n",
       "      <td>0.00</td>\n",
       "      <td>0.00</td>\n",
       "    </tr>\n",
       "    <tr>\n",
       "      <th>jozef_ignacy_kraszewski</th>\n",
       "      <td>0.84</td>\n",
       "      <td>0.00</td>\n",
       "      <td>0.00</td>\n",
       "      <td>0.02</td>\n",
       "      <td>0.11</td>\n",
       "      <td>0.04</td>\n",
       "    </tr>\n",
       "    <tr>\n",
       "      <th>juliusz_slowacki</th>\n",
       "      <td>0.00</td>\n",
       "      <td>0.00</td>\n",
       "      <td>0.00</td>\n",
       "      <td>0.00</td>\n",
       "      <td>1.00</td>\n",
       "      <td>0.00</td>\n",
       "    </tr>\n",
       "    <tr>\n",
       "      <th>stanislaw_wyspianski</th>\n",
       "      <td>0.00</td>\n",
       "      <td>1.00</td>\n",
       "      <td>0.00</td>\n",
       "      <td>0.00</td>\n",
       "      <td>0.00</td>\n",
       "      <td>0.00</td>\n",
       "    </tr>\n",
       "    <tr>\n",
       "      <th>eliza_orzeszkowa</th>\n",
       "      <td>0.00</td>\n",
       "      <td>0.00</td>\n",
       "      <td>1.00</td>\n",
       "      <td>0.00</td>\n",
       "      <td>0.00</td>\n",
       "      <td>0.00</td>\n",
       "    </tr>\n",
       "    <tr>\n",
       "      <th>maria_konopnicka</th>\n",
       "      <td>0.00</td>\n",
       "      <td>0.00</td>\n",
       "      <td>0.00</td>\n",
       "      <td>0.00</td>\n",
       "      <td>0.00</td>\n",
       "      <td>1.00</td>\n",
       "    </tr>\n",
       "    <tr>\n",
       "      <th>krzysztof_kamil_baczynski</th>\n",
       "      <td>0.00</td>\n",
       "      <td>0.00</td>\n",
       "      <td>0.00</td>\n",
       "      <td>1.00</td>\n",
       "      <td>0.00</td>\n",
       "      <td>0.00</td>\n",
       "    </tr>\n",
       "  </tbody>\n",
       "</table>\n",
       "</div>"
      ],
      "text/plain": [
       "                            Topic 0  Topic 1  Topic 2  Topic 3  Topic 4  \\\n",
       "adam_mickiewicz                0.68     0.02     0.11     0.00     0.18   \n",
       "henryk_sienkiewicz             0.47     0.03     0.03     0.08     0.00   \n",
       "kazimierz_przerwa_tetmajer     1.00     0.00     0.00     0.00     0.00   \n",
       "jozef_ignacy_kraszewski        0.84     0.00     0.00     0.02     0.11   \n",
       "juliusz_slowacki               0.00     0.00     0.00     0.00     1.00   \n",
       "stanislaw_wyspianski           0.00     1.00     0.00     0.00     0.00   \n",
       "eliza_orzeszkowa               0.00     0.00     1.00     0.00     0.00   \n",
       "maria_konopnicka               0.00     0.00     0.00     0.00     0.00   \n",
       "krzysztof_kamil_baczynski      0.00     0.00     0.00     1.00     0.00   \n",
       "\n",
       "                            Topic 5  \n",
       "adam_mickiewicz                0.00  \n",
       "henryk_sienkiewicz             0.39  \n",
       "kazimierz_przerwa_tetmajer     0.00  \n",
       "jozef_ignacy_kraszewski        0.04  \n",
       "juliusz_slowacki               0.00  \n",
       "stanislaw_wyspianski           0.00  \n",
       "eliza_orzeszkowa               0.00  \n",
       "maria_konopnicka               1.00  \n",
       "krzysztof_kamil_baczynski      0.00  "
      ]
     },
     "execution_count": 489,
     "metadata": {},
     "output_type": "execute_result"
    }
   ],
   "source": [
    "pd.DataFrame(doctopic, index=authors, columns=[\"Topic {}\".format(x) for x in xrange(num_topics)]).round(2)"
   ]
  },
  {
   "cell_type": "code",
   "execution_count": 490,
   "metadata": {
    "collapsed": false
   },
   "outputs": [
    {
     "data": {
      "image/png": "[encoded data removed]",
      "text/plain": [
       "<matplotlib.figure.Figure at 0x7f81b5ff2190>"
      ]
     },
     "metadata": {},
     "output_type": "display_data"
    }
   ],
   "source": [
    "N, K = doctopic.shape  # N documents, K topics\n",
    "ind = np.arange(N)  # the x-axis locations for the novels\n",
    "width = 0.5  # the width of the bars\n",
    "plots = []\n",
    "height_cumulative = np.zeros(N)\n",
    "\n",
    "fig = plt.figure(figsize=(10, 5))\n",
    "\n",
    "for k in range(K):\n",
    "    color = plt.cm.coolwarm(k/float(K), 1)\n",
    "    if k == 0:\n",
    "        p = plt.bar(ind, doctopic[:, k], width, color=color)\n",
    "    else:\n",
    "        p = plt.bar(ind, doctopic[:, k], width, bottom=height_cumulative, color=color)\n",
    "    height_cumulative += doctopic[:, k]\n",
    "    plots.append(p)\n",
    "\n",
    "\n",
    "plt.ylim((0, 1))  # proportions sum to 1, so the height of the stacked bars is 1\n",
    "\n",
    "plt.ylabel('Topics')\n",
    "\n",
    "plt.title('Topics per authors')\n",
    "\n",
    "plt.xticks(ind+width/2, authors, rotation='45')\n",
    "plt.yticks(np.arange(0, 1, 10))\n",
    "topic_labels = ['Topic #{}'.format(k) for k in range(K)]\n",
    "plt.legend([p[0] for p in plots], topic_labels)\n",
    "plt.show()"
   ]
  },
  {
   "cell_type": "markdown",
   "metadata": {},
   "source": [
    "## Topic visualization heatmap"
   ]
  },
  {
   "cell_type": "code",
   "execution_count": 491,
   "metadata": {
    "collapsed": false
   },
   "outputs": [
    {
     "data": {
      "image/png": "[encoded data removed]",
      "text/plain": [
       "<matplotlib.figure.Figure at 0x7f81acd310d0>"
      ]
     },
     "metadata": {},
     "output_type": "display_data"
    }
   ],
   "source": [
    "fig = plt.figure(figsize=(10, 6))\n",
    "\n",
    "plt.pcolor(doctopic, norm=None, cmap='Blues')\n",
    "plt.yticks(np.arange(doctopic.shape[0])+0.5, authors);\n",
    "plt.xticks(np.arange(doctopic.shape[1])+0.5, topic_labels);\n",
    "plt.gca().invert_yaxis()\n",
    "plt.xticks(rotation=90)\n",
    "plt.colorbar(cmap='Blues')\n",
    "plt.tight_layout()  # fixes margins\n",
    "plt.show()"
   ]
  }
 ],
 "metadata": {
  "kernelspec": {
   "display_name": "Python 2",
   "language": "python",
   "name": "python2"
  },
  "language_info": {
   "codemirror_mode": {
    "name": "ipython",
    "version": 2
   },
   "file_extension": ".py",
   "mimetype": "text/x-python",
   "name": "python",
   "nbconvert_exporter": "python",
   "pygments_lexer": "ipython2",
   "version": "2.7.12"
  }
 },
 "nbformat": 4,
 "nbformat_minor": 2
}
